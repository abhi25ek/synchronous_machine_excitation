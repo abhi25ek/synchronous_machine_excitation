{
 "cells": [
  {
   "cell_type": "code",
   "execution_count": 1,
   "id": "2ef56d82",
   "metadata": {
    "_cell_guid": "b1076dfc-b9ad-4769-8c92-a6c4dae69d19",
    "_uuid": "8f2839f25d086af736a60e9eeb907d3b93b6e0e5",
    "execution": {
     "iopub.execute_input": "2021-12-06T11:23:50.434745Z",
     "iopub.status.busy": "2021-12-06T11:23:50.434000Z",
     "iopub.status.idle": "2021-12-06T11:23:50.446372Z",
     "shell.execute_reply": "2021-12-06T11:23:50.445540Z",
     "shell.execute_reply.started": "2021-12-06T11:07:53.510734Z"
    },
    "papermill": {
     "duration": 0.034051,
     "end_time": "2021-12-06T11:23:50.446589",
     "exception": false,
     "start_time": "2021-12-06T11:23:50.412538",
     "status": "completed"
    },
    "tags": []
   },
   "outputs": [
    {
     "name": "stdout",
     "output_type": "stream",
     "text": [
      "/kaggle/input/synchronous-machine-dataset/SynchronousMachine.csv\n"
     ]
    }
   ],
   "source": [
    "# This Python 3 environment comes with many helpful analytics libraries installed\n",
    "# It is defined by the kaggle/python Docker image: https://github.com/kaggle/docker-python\n",
    "# For example, here's several helpful packages to load\n",
    "\n",
    "import numpy as np # linear algebra\n",
    "import pandas as pd # data processing, CSV file I/O (e.g. pd.read_csv)\n",
    "\n",
    "# Input data files are available in the read-only \"../input/\" directory\n",
    "# For example, running this (by clicking run or pressing Shift+Enter) will list all files under the input directory\n",
    "\n",
    "import os\n",
    "for dirname, _, filenames in os.walk('/kaggle/input'):\n",
    "    for filename in filenames:\n",
    "        print(os.path.join(dirname, filename))\n",
    "\n",
    "# You can write up to 20GB to the current directory (/kaggle/working/) that gets preserved as output when you create a version using \"Save & Run All\" \n",
    "# You can also write temporary files to /kaggle/temp/, but they won't be saved outside of the current session"
   ]
  },
  {
   "cell_type": "code",
   "execution_count": 2,
   "id": "a6ac331e",
   "metadata": {
    "execution": {
     "iopub.execute_input": "2021-12-06T11:23:50.473251Z",
     "iopub.status.busy": "2021-12-06T11:23:50.472505Z",
     "iopub.status.idle": "2021-12-06T11:23:50.505186Z",
     "shell.execute_reply": "2021-12-06T11:23:50.505725Z",
     "shell.execute_reply.started": "2021-12-06T11:18:45.621845Z"
    },
    "papermill": {
     "duration": 0.048536,
     "end_time": "2021-12-06T11:23:50.505924",
     "exception": false,
     "start_time": "2021-12-06T11:23:50.457388",
     "status": "completed"
    },
    "tags": []
   },
   "outputs": [
    {
     "data": {
      "text/html": [
       "<div>\n",
       "<style scoped>\n",
       "    .dataframe tbody tr th:only-of-type {\n",
       "        vertical-align: middle;\n",
       "    }\n",
       "\n",
       "    .dataframe tbody tr th {\n",
       "        vertical-align: top;\n",
       "    }\n",
       "\n",
       "    .dataframe thead th {\n",
       "        text-align: right;\n",
       "    }\n",
       "</style>\n",
       "<table border=\"1\" class=\"dataframe\">\n",
       "  <thead>\n",
       "    <tr style=\"text-align: right;\">\n",
       "      <th></th>\n",
       "      <th>I_y</th>\n",
       "      <th>PF</th>\n",
       "      <th>e_PF</th>\n",
       "      <th>d_if</th>\n",
       "      <th>I_f</th>\n",
       "    </tr>\n",
       "  </thead>\n",
       "  <tbody>\n",
       "    <tr>\n",
       "      <th>0</th>\n",
       "      <td>3.0</td>\n",
       "      <td>0.66</td>\n",
       "      <td>0.34</td>\n",
       "      <td>0.383</td>\n",
       "      <td>1.563</td>\n",
       "    </tr>\n",
       "    <tr>\n",
       "      <th>1</th>\n",
       "      <td>3.0</td>\n",
       "      <td>0.68</td>\n",
       "      <td>0.32</td>\n",
       "      <td>0.372</td>\n",
       "      <td>1.552</td>\n",
       "    </tr>\n",
       "    <tr>\n",
       "      <th>2</th>\n",
       "      <td>3.0</td>\n",
       "      <td>0.70</td>\n",
       "      <td>0.30</td>\n",
       "      <td>0.360</td>\n",
       "      <td>1.540</td>\n",
       "    </tr>\n",
       "    <tr>\n",
       "      <th>3</th>\n",
       "      <td>3.0</td>\n",
       "      <td>0.72</td>\n",
       "      <td>0.28</td>\n",
       "      <td>0.338</td>\n",
       "      <td>1.518</td>\n",
       "    </tr>\n",
       "    <tr>\n",
       "      <th>4</th>\n",
       "      <td>3.0</td>\n",
       "      <td>0.74</td>\n",
       "      <td>0.26</td>\n",
       "      <td>0.317</td>\n",
       "      <td>1.497</td>\n",
       "    </tr>\n",
       "  </tbody>\n",
       "</table>\n",
       "</div>"
      ],
      "text/plain": [
       "   I_y    PF  e_PF   d_if    I_f\n",
       "0  3.0  0.66  0.34  0.383  1.563\n",
       "1  3.0  0.68  0.32  0.372  1.552\n",
       "2  3.0  0.70  0.30  0.360  1.540\n",
       "3  3.0  0.72  0.28  0.338  1.518\n",
       "4  3.0  0.74  0.26  0.317  1.497"
      ]
     },
     "execution_count": 2,
     "metadata": {},
     "output_type": "execute_result"
    }
   ],
   "source": [
    "df = pd.read_csv('/kaggle/input/synchronous-machine-dataset/SynchronousMachine.csv')\n",
    "df.head()"
   ]
  },
  {
   "cell_type": "code",
   "execution_count": 3,
   "id": "b4480441",
   "metadata": {
    "execution": {
     "iopub.execute_input": "2021-12-06T11:23:50.531758Z",
     "iopub.status.busy": "2021-12-06T11:23:50.530762Z",
     "iopub.status.idle": "2021-12-06T11:23:51.610723Z",
     "shell.execute_reply": "2021-12-06T11:23:51.610085Z",
     "shell.execute_reply.started": "2021-12-06T11:07:53.555249Z"
    },
    "papermill": {
     "duration": 1.095044,
     "end_time": "2021-12-06T11:23:51.610907",
     "exception": false,
     "start_time": "2021-12-06T11:23:50.515863",
     "status": "completed"
    },
    "tags": []
   },
   "outputs": [],
   "source": [
    "import matplotlib.pyplot as plt \n",
    "import seaborn as sb "
   ]
  },
  {
   "cell_type": "code",
   "execution_count": 4,
   "id": "a439e91b",
   "metadata": {
    "execution": {
     "iopub.execute_input": "2021-12-06T11:23:51.635990Z",
     "iopub.status.busy": "2021-12-06T11:23:51.634952Z",
     "iopub.status.idle": "2021-12-06T11:23:52.035537Z",
     "shell.execute_reply": "2021-12-06T11:23:52.036029Z",
     "shell.execute_reply.started": "2021-12-06T11:07:53.570528Z"
    },
    "papermill": {
     "duration": 0.415314,
     "end_time": "2021-12-06T11:23:52.036237",
     "exception": false,
     "start_time": "2021-12-06T11:23:51.620923",
     "status": "completed"
    },
    "tags": []
   },
   "outputs": [
    {
     "data": {
      "text/plain": [
       "Text(0.5, 1.0, 'Correlation Matrix.')"
      ]
     },
     "execution_count": 4,
     "metadata": {},
     "output_type": "execute_result"
    },
    {
     "data": {
      "image/png": "[encoded data removed]",
      "text/plain": [
       "<Figure size 432x288 with 2 Axes>"
      ]
     },
     "metadata": {
      "needs_background": "light"
     },
     "output_type": "display_data"
    }
   ],
   "source": [
    "correlation = df.corr()\n",
    "sb.heatmap(correlation ,linewidth = 1 ,annot = True).set_title('Correlation Matrix.')"
   ]
  },
  {
   "cell_type": "code",
   "execution_count": 5,
   "id": "88a25b05",
   "metadata": {
    "execution": {
     "iopub.execute_input": "2021-12-06T11:23:52.065218Z",
     "iopub.status.busy": "2021-12-06T11:23:52.064211Z",
     "iopub.status.idle": "2021-12-06T11:23:52.245046Z",
     "shell.execute_reply": "2021-12-06T11:23:52.244357Z",
     "shell.execute_reply.started": "2021-12-06T11:07:54.135537Z"
    },
    "papermill": {
     "duration": 0.197954,
     "end_time": "2021-12-06T11:23:52.245217",
     "exception": false,
     "start_time": "2021-12-06T11:23:52.047263",
     "status": "completed"
    },
    "tags": []
   },
   "outputs": [],
   "source": [
    "from sklearn.model_selection import train_test_split\n",
    "X_train, X_test, y_train, y_test = train_test_split(df.iloc[:,0:4], df['I_f'], test_size = 0.33)\n",
    "N, D = X_train.shape"
   ]
  },
  {
   "cell_type": "code",
   "execution_count": 6,
   "id": "5333d454",
   "metadata": {
    "execution": {
     "iopub.execute_input": "2021-12-06T11:23:52.276188Z",
     "iopub.status.busy": "2021-12-06T11:23:52.275418Z",
     "iopub.status.idle": "2021-12-06T11:23:52.302176Z",
     "shell.execute_reply": "2021-12-06T11:23:52.302713Z",
     "shell.execute_reply.started": "2021-12-06T11:07:54.145195Z"
    },
    "papermill": {
     "duration": 0.046249,
     "end_time": "2021-12-06T11:23:52.302922",
     "exception": false,
     "start_time": "2021-12-06T11:23:52.256673",
     "status": "completed"
    },
    "tags": []
   },
   "outputs": [
    {
     "data": {
      "text/html": [
       "<div>\n",
       "<style scoped>\n",
       "    .dataframe tbody tr th:only-of-type {\n",
       "        vertical-align: middle;\n",
       "    }\n",
       "\n",
       "    .dataframe tbody tr th {\n",
       "        vertical-align: top;\n",
       "    }\n",
       "\n",
       "    .dataframe thead th {\n",
       "        text-align: right;\n",
       "    }\n",
       "</style>\n",
       "<table border=\"1\" class=\"dataframe\">\n",
       "  <thead>\n",
       "    <tr style=\"text-align: right;\">\n",
       "      <th></th>\n",
       "      <th>I_y</th>\n",
       "      <th>PF</th>\n",
       "      <th>e_PF</th>\n",
       "      <th>d_if</th>\n",
       "      <th>I_f</th>\n",
       "    </tr>\n",
       "  </thead>\n",
       "  <tbody>\n",
       "    <tr>\n",
       "      <th>count</th>\n",
       "      <td>557.000000</td>\n",
       "      <td>557.000000</td>\n",
       "      <td>557.000000</td>\n",
       "      <td>557.000000</td>\n",
       "      <td>557.000000</td>\n",
       "    </tr>\n",
       "    <tr>\n",
       "      <th>mean</th>\n",
       "      <td>4.499820</td>\n",
       "      <td>0.825296</td>\n",
       "      <td>0.174704</td>\n",
       "      <td>0.350659</td>\n",
       "      <td>1.530659</td>\n",
       "    </tr>\n",
       "    <tr>\n",
       "      <th>std</th>\n",
       "      <td>0.896024</td>\n",
       "      <td>0.103925</td>\n",
       "      <td>0.103925</td>\n",
       "      <td>0.180566</td>\n",
       "      <td>0.180566</td>\n",
       "    </tr>\n",
       "    <tr>\n",
       "      <th>min</th>\n",
       "      <td>3.000000</td>\n",
       "      <td>0.650000</td>\n",
       "      <td>0.000000</td>\n",
       "      <td>0.037000</td>\n",
       "      <td>1.217000</td>\n",
       "    </tr>\n",
       "    <tr>\n",
       "      <th>25%</th>\n",
       "      <td>3.700000</td>\n",
       "      <td>0.740000</td>\n",
       "      <td>0.080000</td>\n",
       "      <td>0.189000</td>\n",
       "      <td>1.369000</td>\n",
       "    </tr>\n",
       "    <tr>\n",
       "      <th>50%</th>\n",
       "      <td>4.500000</td>\n",
       "      <td>0.820000</td>\n",
       "      <td>0.180000</td>\n",
       "      <td>0.345000</td>\n",
       "      <td>1.525000</td>\n",
       "    </tr>\n",
       "    <tr>\n",
       "      <th>75%</th>\n",
       "      <td>5.300000</td>\n",
       "      <td>0.920000</td>\n",
       "      <td>0.260000</td>\n",
       "      <td>0.486000</td>\n",
       "      <td>1.666000</td>\n",
       "    </tr>\n",
       "    <tr>\n",
       "      <th>max</th>\n",
       "      <td>6.000000</td>\n",
       "      <td>1.000000</td>\n",
       "      <td>0.350000</td>\n",
       "      <td>0.769000</td>\n",
       "      <td>1.949000</td>\n",
       "    </tr>\n",
       "  </tbody>\n",
       "</table>\n",
       "</div>"
      ],
      "text/plain": [
       "              I_y          PF        e_PF        d_if         I_f\n",
       "count  557.000000  557.000000  557.000000  557.000000  557.000000\n",
       "mean     4.499820    0.825296    0.174704    0.350659    1.530659\n",
       "std      0.896024    0.103925    0.103925    0.180566    0.180566\n",
       "min      3.000000    0.650000    0.000000    0.037000    1.217000\n",
       "25%      3.700000    0.740000    0.080000    0.189000    1.369000\n",
       "50%      4.500000    0.820000    0.180000    0.345000    1.525000\n",
       "75%      5.300000    0.920000    0.260000    0.486000    1.666000\n",
       "max      6.000000    1.000000    0.350000    0.769000    1.949000"
      ]
     },
     "execution_count": 6,
     "metadata": {},
     "output_type": "execute_result"
    }
   ],
   "source": [
    "df[[\"I_y\",\"PF\", \"e_PF\", \"d_if\", \"I_f\"]].describe()"
   ]
  },
  {
   "cell_type": "code",
   "execution_count": 7,
   "id": "05877142",
   "metadata": {
    "execution": {
     "iopub.execute_input": "2021-12-06T11:23:52.330128Z",
     "iopub.status.busy": "2021-12-06T11:23:52.329380Z",
     "iopub.status.idle": "2021-12-06T11:23:52.342355Z",
     "shell.execute_reply": "2021-12-06T11:23:52.341623Z",
     "shell.execute_reply.started": "2021-12-06T11:11:02.458462Z"
    },
    "papermill": {
     "duration": 0.027754,
     "end_time": "2021-12-06T11:23:52.342574",
     "exception": false,
     "start_time": "2021-12-06T11:23:52.314820",
     "status": "completed"
    },
    "tags": []
   },
   "outputs": [],
   "source": [
    "from sklearn.preprocessing import StandardScaler\n",
    "\n",
    "scaler = StandardScaler()\n",
    "X_train = scaler.fit_transform(X_train)\n",
    "X_test = scaler.fit_transform(X_test)"
   ]
  },
  {
   "cell_type": "code",
   "execution_count": 8,
   "id": "94694a01",
   "metadata": {
    "execution": {
     "iopub.execute_input": "2021-12-06T11:23:52.375276Z",
     "iopub.status.busy": "2021-12-06T11:23:52.374498Z",
     "iopub.status.idle": "2021-12-06T11:24:05.386098Z",
     "shell.execute_reply": "2021-12-06T11:24:05.385414Z",
     "shell.execute_reply.started": "2021-12-06T11:18:00.092261Z"
    },
    "papermill": {
     "duration": 13.031835,
     "end_time": "2021-12-06T11:24:05.386280",
     "exception": false,
     "start_time": "2021-12-06T11:23:52.354445",
     "status": "completed"
    },
    "tags": []
   },
   "outputs": [
    {
     "name": "stderr",
     "output_type": "stream",
     "text": [
      "\n",
      "User settings:\n",
      "\n",
      "   KMP_AFFINITY=granularity=fine,verbose,compact,1,0\n",
      "   KMP_BLOCKTIME=0\n",
      "   KMP_DUPLICATE_LIB_OK=True\n",
      "   KMP_INIT_AT_FORK=FALSE\n",
      "   KMP_SETTINGS=1\n",
      "   KMP_WARNINGS=0\n",
      "\n",
      "Effective settings:\n",
      "\n",
      "   KMP_ABORT_DELAY=0\n",
      "   KMP_ADAPTIVE_LOCK_PROPS='1,1024'\n",
      "   KMP_ALIGN_ALLOC=64\n",
      "   KMP_ALL_THREADPRIVATE=128\n",
      "   KMP_ATOMIC_MODE=2\n",
      "   KMP_BLOCKTIME=0\n",
      "   KMP_CPUINFO_FILE: value is not defined\n",
      "   KMP_DETERMINISTIC_REDUCTION=false\n",
      "   KMP_DEVICE_THREAD_LIMIT=2147483647\n",
      "   KMP_DISP_NUM_BUFFERS=7\n",
      "   KMP_DUPLICATE_LIB_OK=true\n",
      "   KMP_ENABLE_TASK_THROTTLING=true\n",
      "   KMP_FORCE_REDUCTION: value is not defined\n",
      "   KMP_FOREIGN_THREADS_THREADPRIVATE=true\n",
      "   KMP_FORKJOIN_BARRIER='2,2'\n",
      "   KMP_FORKJOIN_BARRIER_PATTERN='hyper,hyper'\n",
      "   KMP_GTID_MODE=3\n",
      "   KMP_HANDLE_SIGNALS=false\n",
      "   KMP_HOT_TEAMS_MAX_LEVEL=1\n",
      "   KMP_HOT_TEAMS_MODE=0\n",
      "   KMP_INIT_AT_FORK=true\n",
      "   KMP_LIBRARY=throughput\n",
      "   KMP_LOCK_KIND=queuing\n",
      "   KMP_MALLOC_POOL_INCR=1M\n",
      "   KMP_NUM_LOCKS_IN_BLOCK=1\n",
      "   KMP_PLAIN_BARRIER='2,2'\n",
      "   KMP_PLAIN_BARRIER_PATTERN='hyper,hyper'\n",
      "   KMP_REDUCTION_BARRIER='1,1'\n",
      "   KMP_REDUCTION_BARRIER_PATTERN='hyper,hyper'\n",
      "   KMP_SCHEDULE='static,balanced;guided,iterative'\n",
      "   KMP_SETTINGS=true\n",
      "   KMP_SPIN_BACKOFF_PARAMS='4096,100'\n",
      "   KMP_STACKOFFSET=64\n",
      "   KMP_STACKPAD=0\n",
      "   KMP_STACKSIZE=8M\n",
      "   KMP_STORAGE_MAP=false\n",
      "   KMP_TASKING=2\n",
      "   KMP_TASKLOOP_MIN_TASKS=0\n",
      "   KMP_TASK_STEALING_CONSTRAINT=1\n",
      "   KMP_TEAMS_THREAD_LIMIT=4\n",
      "   KMP_TOPOLOGY_METHOD=all\n",
      "   KMP_USE_YIELD=1\n",
      "   KMP_VERSION=false\n",
      "   KMP_WARNINGS=false\n",
      "   OMP_AFFINITY_FORMAT='OMP: pid %P tid %i thread %n bound to OS proc set {%A}'\n",
      "   OMP_ALLOCATOR=omp_default_mem_alloc\n",
      "   OMP_CANCELLATION=false\n",
      "   OMP_DEFAULT_DEVICE=0\n",
      "   OMP_DISPLAY_AFFINITY=false\n",
      "   OMP_DISPLAY_ENV=false\n",
      "   OMP_DYNAMIC=false\n",
      "   OMP_MAX_ACTIVE_LEVELS=1\n",
      "   OMP_MAX_TASK_PRIORITY=0\n",
      "   OMP_NESTED: deprecated; max-active-levels-var=1\n",
      "   OMP_NUM_THREADS: value is not defined\n",
      "   OMP_PLACES: value is not defined\n",
      "   OMP_PROC_BIND='intel'\n",
      "   OMP_SCHEDULE='static'\n",
      "   OMP_STACKSIZE=8M\n",
      "   OMP_TARGET_OFFLOAD=DEFAULT\n",
      "   OMP_THREAD_LIMIT=2147483647\n",
      "   OMP_WAIT_POLICY=PASSIVE\n",
      "   KMP_AFFINITY='verbose,warnings,respect,granularity=fine,compact,1,0'\n",
      "\n",
      "2021-12-06 11:23:58.837650: I tensorflow/core/common_runtime/process_util.cc:146] Creating new thread pool with default inter op setting: 2. Tune using inter_op_parallelism_threads for best performance.\n",
      "2021-12-06 11:23:58.995613: I tensorflow/compiler/mlir/mlir_graph_optimization_pass.cc:185] None of the MLIR Optimization Passes are enabled (registered 2)\n"
     ]
    },
    {
     "name": "stdout",
     "output_type": "stream",
     "text": [
      "Epoch 1/100\n",
      "12/12 [==============================] - 1s 18ms/step - loss: 2.3504 - val_loss: 2.0520\n",
      "Epoch 2/100\n",
      "12/12 [==============================] - 0s 5ms/step - loss: 1.6741 - val_loss: 1.2996\n",
      "Epoch 3/100\n",
      "12/12 [==============================] - 0s 5ms/step - loss: 1.0122 - val_loss: 0.7533\n",
      "Epoch 4/100\n",
      "12/12 [==============================] - 0s 5ms/step - loss: 0.5686 - val_loss: 0.4211\n",
      "Epoch 5/100\n",
      "12/12 [==============================] - 0s 5ms/step - loss: 0.3094 - val_loss: 0.2330\n",
      "Epoch 6/100\n",
      "12/12 [==============================] - 0s 5ms/step - loss: 0.1674 - val_loss: 0.1264\n",
      "Epoch 7/100\n",
      "12/12 [==============================] - 0s 5ms/step - loss: 0.0889 - val_loss: 0.0689\n",
      "Epoch 8/100\n",
      "12/12 [==============================] - 0s 5ms/step - loss: 0.0469 - val_loss: 0.0381\n",
      "Epoch 9/100\n",
      "12/12 [==============================] - 0s 5ms/step - loss: 0.0248 - val_loss: 0.0215\n",
      "Epoch 10/100\n",
      "12/12 [==============================] - 0s 5ms/step - loss: 0.0133 - val_loss: 0.0124\n",
      "Epoch 11/100\n",
      "12/12 [==============================] - 0s 5ms/step - loss: 0.0072 - val_loss: 0.0074\n",
      "Epoch 12/100\n",
      "12/12 [==============================] - 0s 5ms/step - loss: 0.0040 - val_loss: 0.0046\n",
      "Epoch 13/100\n",
      "12/12 [==============================] - 0s 5ms/step - loss: 0.0023 - val_loss: 0.0031\n",
      "Epoch 14/100\n",
      "12/12 [==============================] - 0s 5ms/step - loss: 0.0014 - val_loss: 0.0022\n",
      "Epoch 15/100\n",
      "12/12 [==============================] - 0s 5ms/step - loss: 9.2671e-04 - val_loss: 0.0016\n",
      "Epoch 16/100\n",
      "12/12 [==============================] - 0s 5ms/step - loss: 6.6984e-04 - val_loss: 0.0013\n",
      "Epoch 17/100\n",
      "12/12 [==============================] - 0s 5ms/step - loss: 5.2998e-04 - val_loss: 0.0011\n",
      "Epoch 18/100\n",
      "12/12 [==============================] - 0s 5ms/step - loss: 4.5276e-04 - val_loss: 9.2400e-04\n",
      "Epoch 19/100\n",
      "12/12 [==============================] - 0s 5ms/step - loss: 4.0483e-04 - val_loss: 8.2526e-04\n",
      "Epoch 20/100\n",
      "12/12 [==============================] - 0s 5ms/step - loss: 3.7383e-04 - val_loss: 7.6016e-04\n",
      "Epoch 21/100\n",
      "12/12 [==============================] - 0s 5ms/step - loss: 3.5352e-04 - val_loss: 7.0865e-04\n",
      "Epoch 22/100\n",
      "12/12 [==============================] - 0s 5ms/step - loss: 3.3741e-04 - val_loss: 6.6939e-04\n",
      "Epoch 23/100\n",
      "12/12 [==============================] - 0s 5ms/step - loss: 3.2420e-04 - val_loss: 6.3788e-04\n",
      "Epoch 24/100\n",
      "12/12 [==============================] - 0s 5ms/step - loss: 3.1151e-04 - val_loss: 6.1551e-04\n",
      "Epoch 25/100\n",
      "12/12 [==============================] - 0s 5ms/step - loss: 3.0072e-04 - val_loss: 5.9702e-04\n",
      "Epoch 26/100\n",
      "12/12 [==============================] - 0s 5ms/step - loss: 2.9054e-04 - val_loss: 5.8354e-04\n",
      "Epoch 27/100\n",
      "12/12 [==============================] - 0s 5ms/step - loss: 2.8085e-04 - val_loss: 5.7072e-04\n",
      "Epoch 28/100\n",
      "12/12 [==============================] - 0s 5ms/step - loss: 2.7147e-04 - val_loss: 5.5460e-04\n",
      "Epoch 29/100\n",
      "12/12 [==============================] - 0s 5ms/step - loss: 2.6249e-04 - val_loss: 5.4321e-04\n",
      "Epoch 30/100\n",
      "12/12 [==============================] - 0s 5ms/step - loss: 2.5356e-04 - val_loss: 5.3022e-04\n",
      "Epoch 31/100\n",
      "12/12 [==============================] - 0s 5ms/step - loss: 2.4516e-04 - val_loss: 5.1814e-04\n",
      "Epoch 32/100\n",
      "12/12 [==============================] - 0s 5ms/step - loss: 2.3708e-04 - val_loss: 5.1138e-04\n",
      "Epoch 33/100\n",
      "12/12 [==============================] - 0s 5ms/step - loss: 2.2931e-04 - val_loss: 5.0193e-04\n",
      "Epoch 34/100\n",
      "12/12 [==============================] - 0s 5ms/step - loss: 2.2152e-04 - val_loss: 4.9092e-04\n",
      "Epoch 35/100\n",
      "12/12 [==============================] - 0s 5ms/step - loss: 2.1427e-04 - val_loss: 4.8431e-04\n",
      "Epoch 36/100\n",
      "12/12 [==============================] - 0s 5ms/step - loss: 2.0745e-04 - val_loss: 4.7578e-04\n",
      "Epoch 37/100\n",
      "12/12 [==============================] - 0s 5ms/step - loss: 2.0044e-04 - val_loss: 4.6906e-04\n",
      "Epoch 38/100\n",
      "12/12 [==============================] - 0s 5ms/step - loss: 1.9414e-04 - val_loss: 4.6249e-04\n",
      "Epoch 39/100\n",
      "12/12 [==============================] - 0s 5ms/step - loss: 1.8730e-04 - val_loss: 4.5461e-04\n",
      "Epoch 40/100\n",
      "12/12 [==============================] - 0s 5ms/step - loss: 1.8132e-04 - val_loss: 4.5085e-04\n",
      "Epoch 41/100\n",
      "12/12 [==============================] - 0s 5ms/step - loss: 1.7523e-04 - val_loss: 4.4372e-04\n",
      "Epoch 42/100\n",
      "12/12 [==============================] - 0s 5ms/step - loss: 1.6938e-04 - val_loss: 4.3606e-04\n",
      "Epoch 43/100\n",
      "12/12 [==============================] - 0s 5ms/step - loss: 1.6367e-04 - val_loss: 4.3067e-04\n",
      "Epoch 44/100\n",
      "12/12 [==============================] - 0s 4ms/step - loss: 1.5839e-04 - val_loss: 4.2555e-04\n",
      "Epoch 45/100\n",
      "12/12 [==============================] - 0s 4ms/step - loss: 1.5292e-04 - val_loss: 4.2073e-04\n",
      "Epoch 46/100\n",
      "12/12 [==============================] - 0s 4ms/step - loss: 1.4821e-04 - val_loss: 4.1569e-04\n",
      "Epoch 47/100\n",
      "12/12 [==============================] - 0s 4ms/step - loss: 1.4343e-04 - val_loss: 4.1077e-04\n",
      "Epoch 48/100\n",
      "12/12 [==============================] - 0s 5ms/step - loss: 1.3861e-04 - val_loss: 4.0649e-04\n",
      "Epoch 49/100\n",
      "12/12 [==============================] - 0s 5ms/step - loss: 1.3408e-04 - val_loss: 4.0109e-04\n",
      "Epoch 50/100\n",
      "12/12 [==============================] - 0s 5ms/step - loss: 1.2968e-04 - val_loss: 3.9554e-04\n",
      "Epoch 51/100\n",
      "12/12 [==============================] - 0s 5ms/step - loss: 1.2535e-04 - val_loss: 3.8933e-04\n",
      "Epoch 52/100\n",
      "12/12 [==============================] - 0s 5ms/step - loss: 1.2131e-04 - val_loss: 3.8580e-04\n",
      "Epoch 53/100\n",
      "12/12 [==============================] - 0s 5ms/step - loss: 1.1736e-04 - val_loss: 3.8069e-04\n",
      "Epoch 54/100\n",
      "12/12 [==============================] - 0s 5ms/step - loss: 1.1332e-04 - val_loss: 3.7760e-04\n",
      "Epoch 55/100\n",
      "12/12 [==============================] - 0s 5ms/step - loss: 1.0970e-04 - val_loss: 3.7236e-04\n",
      "Epoch 56/100\n",
      "12/12 [==============================] - 0s 5ms/step - loss: 1.0608e-04 - val_loss: 3.7053e-04\n",
      "Epoch 57/100\n",
      "12/12 [==============================] - 0s 4ms/step - loss: 1.0247e-04 - val_loss: 3.6617e-04\n",
      "Epoch 58/100\n",
      "12/12 [==============================] - 0s 5ms/step - loss: 9.9160e-05 - val_loss: 3.6391e-04\n",
      "Epoch 59/100\n",
      "12/12 [==============================] - 0s 4ms/step - loss: 9.5807e-05 - val_loss: 3.6012e-04\n",
      "Epoch 60/100\n",
      "12/12 [==============================] - 0s 4ms/step - loss: 9.2783e-05 - val_loss: 3.5654e-04\n",
      "Epoch 61/100\n",
      "12/12 [==============================] - 0s 4ms/step - loss: 8.9724e-05 - val_loss: 3.5409e-04\n",
      "Epoch 62/100\n",
      "12/12 [==============================] - 0s 5ms/step - loss: 8.6770e-05 - val_loss: 3.4967e-04\n",
      "Epoch 63/100\n",
      "12/12 [==============================] - 0s 5ms/step - loss: 8.3984e-05 - val_loss: 3.4514e-04\n",
      "Epoch 64/100\n",
      "12/12 [==============================] - 0s 4ms/step - loss: 8.1381e-05 - val_loss: 3.4378e-04\n",
      "Epoch 65/100\n",
      "12/12 [==============================] - 0s 5ms/step - loss: 7.8544e-05 - val_loss: 3.3921e-04\n",
      "Epoch 66/100\n",
      "12/12 [==============================] - 0s 5ms/step - loss: 7.5785e-05 - val_loss: 3.3620e-04\n",
      "Epoch 67/100\n",
      "12/12 [==============================] - 0s 5ms/step - loss: 7.3422e-05 - val_loss: 3.3371e-04\n",
      "Epoch 68/100\n",
      "12/12 [==============================] - 0s 5ms/step - loss: 7.1008e-05 - val_loss: 3.3206e-04\n",
      "Epoch 69/100\n",
      "12/12 [==============================] - 0s 5ms/step - loss: 6.8587e-05 - val_loss: 3.3003e-04\n",
      "Epoch 70/100\n",
      "12/12 [==============================] - 0s 5ms/step - loss: 6.6486e-05 - val_loss: 3.2697e-04\n",
      "Epoch 71/100\n",
      "12/12 [==============================] - 0s 5ms/step - loss: 6.4170e-05 - val_loss: 3.2466e-04\n",
      "Epoch 72/100\n",
      "12/12 [==============================] - 0s 5ms/step - loss: 6.2140e-05 - val_loss: 3.2188e-04\n",
      "Epoch 73/100\n",
      "12/12 [==============================] - 0s 4ms/step - loss: 5.9999e-05 - val_loss: 3.1917e-04\n",
      "Epoch 74/100\n",
      "12/12 [==============================] - 0s 5ms/step - loss: 5.8019e-05 - val_loss: 3.1766e-04\n",
      "Epoch 75/100\n",
      "12/12 [==============================] - 0s 6ms/step - loss: 5.6090e-05 - val_loss: 3.1653e-04\n",
      "Epoch 76/100\n",
      "12/12 [==============================] - 0s 5ms/step - loss: 5.4289e-05 - val_loss: 3.1367e-04\n",
      "Epoch 77/100\n",
      "12/12 [==============================] - 0s 4ms/step - loss: 5.2542e-05 - val_loss: 3.1245e-04\n",
      "Epoch 78/100\n",
      "12/12 [==============================] - 0s 5ms/step - loss: 5.0767e-05 - val_loss: 3.1062e-04\n",
      "Epoch 79/100\n",
      "12/12 [==============================] - 0s 4ms/step - loss: 4.9046e-05 - val_loss: 3.0911e-04\n",
      "Epoch 80/100\n",
      "12/12 [==============================] - 0s 5ms/step - loss: 4.7492e-05 - val_loss: 3.0702e-04\n",
      "Epoch 81/100\n",
      "12/12 [==============================] - 0s 5ms/step - loss: 4.5951e-05 - val_loss: 3.0624e-04\n",
      "Epoch 82/100\n",
      "12/12 [==============================] - 0s 5ms/step - loss: 4.4374e-05 - val_loss: 3.0465e-04\n",
      "Epoch 83/100\n",
      "12/12 [==============================] - 0s 5ms/step - loss: 4.2969e-05 - val_loss: 3.0219e-04\n",
      "Epoch 84/100\n",
      "12/12 [==============================] - 0s 5ms/step - loss: 4.1556e-05 - val_loss: 2.9972e-04\n",
      "Epoch 85/100\n",
      "12/12 [==============================] - 0s 5ms/step - loss: 4.0156e-05 - val_loss: 2.9872e-04\n",
      "Epoch 86/100\n",
      "12/12 [==============================] - 0s 6ms/step - loss: 3.8859e-05 - val_loss: 2.9724e-04\n",
      "Epoch 87/100\n",
      "12/12 [==============================] - 0s 5ms/step - loss: 3.7517e-05 - val_loss: 2.9604e-04\n",
      "Epoch 88/100\n",
      "12/12 [==============================] - 0s 5ms/step - loss: 3.6334e-05 - val_loss: 2.9458e-04\n",
      "Epoch 89/100\n",
      "12/12 [==============================] - 0s 5ms/step - loss: 3.5157e-05 - val_loss: 2.9321e-04\n",
      "Epoch 90/100\n",
      "12/12 [==============================] - 0s 5ms/step - loss: 3.3941e-05 - val_loss: 2.9137e-04\n",
      "Epoch 91/100\n",
      "12/12 [==============================] - 0s 4ms/step - loss: 3.2885e-05 - val_loss: 2.9019e-04\n",
      "Epoch 92/100\n",
      "12/12 [==============================] - 0s 5ms/step - loss: 3.1765e-05 - val_loss: 2.8985e-04\n",
      "Epoch 93/100\n",
      "12/12 [==============================] - 0s 5ms/step - loss: 3.0729e-05 - val_loss: 2.8848e-04\n",
      "Epoch 94/100\n",
      "12/12 [==============================] - 0s 5ms/step - loss: 2.9708e-05 - val_loss: 2.8631e-04\n",
      "Epoch 95/100\n",
      "12/12 [==============================] - 0s 5ms/step - loss: 2.8742e-05 - val_loss: 2.8557e-04\n",
      "Epoch 96/100\n",
      "12/12 [==============================] - 0s 5ms/step - loss: 2.7817e-05 - val_loss: 2.8465e-04\n",
      "Epoch 97/100\n",
      "12/12 [==============================] - 0s 5ms/step - loss: 2.6928e-05 - val_loss: 2.8374e-04\n",
      "Epoch 98/100\n",
      "12/12 [==============================] - 0s 6ms/step - loss: 2.5956e-05 - val_loss: 2.8240e-04\n",
      "Epoch 99/100\n",
      "12/12 [==============================] - 0s 5ms/step - loss: 2.5163e-05 - val_loss: 2.8258e-04\n",
      "Epoch 100/100\n",
      "12/12 [==============================] - 0s 5ms/step - loss: 2.4287e-05 - val_loss: 2.8158e-04\n"
     ]
    }
   ],
   "source": [
    "from tensorflow.keras.layers import Input, Dense\n",
    "from tensorflow.keras.models import Model\n",
    "from tensorflow.keras.optimizers import SGD\n",
    "\n",
    "i = Input(shape = (D,))\n",
    "x = Dense(1)(i)\n",
    "model = Model(i,x)\n",
    "model.compile(\n",
    "    loss = 'mse',\n",
    "    optimizer = SGD(0.001, 0.9)\n",
    ")\n",
    "\n",
    "r =  model.fit(X_train, y_train, validation_data = (X_test, y_test), epochs = 100)\n",
    "\n"
   ]
  },
  {
   "cell_type": "code",
   "execution_count": 9,
   "id": "7e476137",
   "metadata": {
    "execution": {
     "iopub.execute_input": "2021-12-06T11:24:05.553979Z",
     "iopub.status.busy": "2021-12-06T11:24:05.552846Z",
     "iopub.status.idle": "2021-12-06T11:24:05.767949Z",
     "shell.execute_reply": "2021-12-06T11:24:05.768512Z",
     "shell.execute_reply.started": "2021-12-06T11:18:06.559129Z"
    },
    "papermill": {
     "duration": 0.308802,
     "end_time": "2021-12-06T11:24:05.768716",
     "exception": false,
     "start_time": "2021-12-06T11:24:05.459914",
     "status": "completed"
    },
    "tags": []
   },
   "outputs": [
    {
     "data": {
      "text/plain": [
       "<matplotlib.legend.Legend at 0x7f893826c850>"
      ]
     },
     "execution_count": 9,
     "metadata": {},
     "output_type": "execute_result"
    },
    {
     "data": {
      "image/png": "[encoded data removed]",
      "text/plain": [
       "<Figure size 432x288 with 1 Axes>"
      ]
     },
     "metadata": {
      "needs_background": "light"
     },
     "output_type": "display_data"
    }
   ],
   "source": [
    "plt.plot(r.history['loss'], label = 'loss')\n",
    "plt.plot(r.history['val_loss'], label = 'val_loss')\n",
    "plt.legend()"
   ]
  }
 ],
 "metadata": {
  "kernelspec": {
   "display_name": "Python 3",
   "language": "python",
   "name": "python3"
  },
  "language_info": {
   "codemirror_mode": {
    "name": "ipython",
    "version": 3
   },
   "file_extension": ".py",
   "mimetype": "text/x-python",
   "name": "python",
   "nbconvert_exporter": "python",
   "pygments_lexer": "ipython3",
   "version": "3.7.12"
  },
  "papermill": {
   "default_parameters": {},
   "duration": 29.862816,
   "end_time": "2021-12-06T11:24:09.066594",
   "environment_variables": {},
   "exception": null,
   "input_path": "__notebook__.ipynb",
   "output_path": "__notebook__.ipynb",
   "parameters": {},
   "start_time": "2021-12-06T11:23:39.203778",
   "version": "2.3.3"
  }
 },
 "nbformat": 4,
 "nbformat_minor": 5
}
